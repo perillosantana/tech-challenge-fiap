{
 "cells": [
  {
   "cell_type": "code",
   "execution_count": 3,
   "metadata": {},
   "outputs": [],
   "source": [
    "import pandas as pd"
   ]
  },
  {
   "cell_type": "code",
   "execution_count": 1,
   "metadata": {},
   "outputs": [
    {
     "ename": "NameError",
     "evalue": "name 'pd' is not defined",
     "output_type": "error",
     "traceback": [
      "\u001b[0;31m---------------------------------------------------------------------------\u001b[0m",
      "\u001b[0;31mNameError\u001b[0m                                 Traceback (most recent call last)",
      "Cell \u001b[0;32mIn[1], line 1\u001b[0m\n\u001b[0;32m----> 1\u001b[0m df_origem \u001b[39m=\u001b[39m pd\u001b[39m.\u001b[39mread_csv(\u001b[39m\"\u001b[39m\u001b[39m/content/ExpVinho.csv\u001b[39m\u001b[39m\"\u001b[39m, sep\u001b[39m=\u001b[39m\u001b[39m\"\u001b[39m\u001b[39m;\u001b[39m\u001b[39m\"\u001b[39m)\n",
      "\u001b[0;31mNameError\u001b[0m: name 'pd' is not defined"
     ]
    }
   ],
   "source": [
    "df_origem = pd.read_csv(\"/content/ExpVinho.csv\", sep=\";\")"
   ]
  },
  {
   "cell_type": "code",
   "execution_count": null,
   "metadata": {},
   "outputs": [],
   "source": [
    "# Pegandos os dados dos ultimos 15 anos\n",
    "\n",
    "ultimos_anos = 15\n",
    "ano_limite = 2021 \n",
    "colunas_anos = []\n",
    "\n",
    "for x in range(ultimos_anos):\n",
    "  colunas_anos.append(str(ano_limite - x))\n",
    "  colunas_anos.append(str(ano_limite - x) + \".1\")\n",
    "\n",
    "colunas_anos = colunas_anos[::-1]"
   ]
  },
  {
   "cell_type": "code",
   "execution_count": null,
   "metadata": {},
   "outputs": [],
   "source": [
    "df = df_origem[['País'] + colunas_anos]"
   ]
  },
  {
   "cell_type": "code",
   "execution_count": null,
   "metadata": {},
   "outputs": [],
   "source": [
    "import matplotlib.pyplot as plt\n",
    "\n",
    "# Configuração do gráfico\n",
    "fig, ax = plt.subplots(figsize=(100, 100))\n",
    "\n",
    "# Plot dos dados\n",
    "ax.plot(df['2007.1'], range(len(df)), label='2007', marker='o')\n",
    "ax.plot(df['2021.1'], range(len(df)), label='2007', marker='o')\n",
    "\n",
    "# Configuração do eixo y\n",
    "ax.set_yticks(range(len(df)))\n",
    "ax.set_yticklabels(df['País'])\n",
    "\n",
    "# Legendas e título\n",
    "ax.legend()\n",
    "ax.set_xlabel('Valor')\n",
    "ax.set_ylabel('País')\n",
    "ax.set_title('Dados de Exportação')\n",
    "\n",
    "# Exibição do gráfico\n",
    "plt.show()"
   ]
  }
 ],
 "metadata": {
  "kernelspec": {
   "display_name": "Python 3",
   "language": "python",
   "name": "python3"
  },
  "language_info": {
   "codemirror_mode": {
    "name": "ipython",
    "version": 3
   },
   "file_extension": ".py",
   "mimetype": "text/x-python",
   "name": "python",
   "nbconvert_exporter": "python",
   "pygments_lexer": "ipython3",
   "version": "3.10.11"
  },
  "orig_nbformat": 4
 },
 "nbformat": 4,
 "nbformat_minor": 2
}
